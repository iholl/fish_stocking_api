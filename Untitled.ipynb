{
 "cells": [
  {
   "cell_type": "code",
   "execution_count": 8,
   "id": "437c468b",
   "metadata": {},
   "outputs": [],
   "source": [
    "import requests\n",
    "from bs4 import BeautifulSoup\n",
    "import pandas as pd"
   ]
  },
  {
   "cell_type": "code",
   "execution_count": 81,
   "id": "e53a3169",
   "metadata": {},
   "outputs": [],
   "source": [
    "database = pd.DataFrame(columns=[\"species\", \"total_stocked\"], data=None)"
   ]
  },
  {
   "cell_type": "code",
   "execution_count": 90,
   "id": "031ff41d",
   "metadata": {},
   "outputs": [
    {
     "data": {
      "text/plain": [
       "<Response [200]>"
      ]
     },
     "execution_count": 90,
     "metadata": {},
     "output_type": "execute_result"
    }
   ],
   "source": [
    "url = \"https://www.ndow.org/wp-json/wp/v2/event/?topic_category=322&per_page=10&page=1\"\n",
    "response = requests.get(url)\n",
    "response"
   ]
  },
  {
   "cell_type": "code",
   "execution_count": 80,
   "id": "adcd5c30",
   "metadata": {},
   "outputs": [],
   "source": [
    "database = pd.DataFrame(columns=[\"species\", \"total_stocked\"])"
   ]
  },
  {
   "cell_type": "code",
   "execution_count": 96,
   "id": "b4cec722",
   "metadata": {},
   "outputs": [
    {
     "name": "stdout",
     "output_type": "stream",
     "text": [
      "   event_id length\n",
      "0     11450   10.4\n",
      "   event_id length\n",
      "0     11449   10.3\n",
      "   event_id length\n",
      "0     11449    9.9\n",
      "   event_id length\n",
      "0     11449   10.3\n",
      "   event_id length\n",
      "0     11448   10.1\n",
      "   event_id length\n",
      "0     11448    9.7\n",
      "   event_id length\n",
      "0     11409     10\n",
      "   event_id length\n",
      "0     11447    9.1\n",
      "   event_id length\n",
      "0     11447   10.1\n",
      "   event_id length\n",
      "0     11407     10\n",
      "   event_id length\n",
      "0     11405    9.2\n",
      "   event_id length\n",
      "0     11404     10\n",
      "   event_id length\n",
      "0     11402     10\n",
      "   event_id length\n",
      "0     11398    9.2\n"
     ]
    },
    {
     "name": "stderr",
     "output_type": "stream",
     "text": [
      "/var/folders/z4/z_24d35100g77zf619tkcmfr0000gn/T/ipykernel_13047/2331141628.py:25: FutureWarning: The frame.append method is deprecated and will be removed from pandas in a future version. Use pandas.concat instead.\n",
      "  database = database.append(temp_df)\n",
      "/var/folders/z4/z_24d35100g77zf619tkcmfr0000gn/T/ipykernel_13047/2331141628.py:25: FutureWarning: The frame.append method is deprecated and will be removed from pandas in a future version. Use pandas.concat instead.\n",
      "  database = database.append(temp_df)\n",
      "/var/folders/z4/z_24d35100g77zf619tkcmfr0000gn/T/ipykernel_13047/2331141628.py:25: FutureWarning: The frame.append method is deprecated and will be removed from pandas in a future version. Use pandas.concat instead.\n",
      "  database = database.append(temp_df)\n",
      "/var/folders/z4/z_24d35100g77zf619tkcmfr0000gn/T/ipykernel_13047/2331141628.py:25: FutureWarning: The frame.append method is deprecated and will be removed from pandas in a future version. Use pandas.concat instead.\n",
      "  database = database.append(temp_df)\n",
      "/var/folders/z4/z_24d35100g77zf619tkcmfr0000gn/T/ipykernel_13047/2331141628.py:25: FutureWarning: The frame.append method is deprecated and will be removed from pandas in a future version. Use pandas.concat instead.\n",
      "  database = database.append(temp_df)\n",
      "/var/folders/z4/z_24d35100g77zf619tkcmfr0000gn/T/ipykernel_13047/2331141628.py:25: FutureWarning: The frame.append method is deprecated and will be removed from pandas in a future version. Use pandas.concat instead.\n",
      "  database = database.append(temp_df)\n",
      "/var/folders/z4/z_24d35100g77zf619tkcmfr0000gn/T/ipykernel_13047/2331141628.py:25: FutureWarning: The frame.append method is deprecated and will be removed from pandas in a future version. Use pandas.concat instead.\n",
      "  database = database.append(temp_df)\n",
      "/var/folders/z4/z_24d35100g77zf619tkcmfr0000gn/T/ipykernel_13047/2331141628.py:25: FutureWarning: The frame.append method is deprecated and will be removed from pandas in a future version. Use pandas.concat instead.\n",
      "  database = database.append(temp_df)\n",
      "/var/folders/z4/z_24d35100g77zf619tkcmfr0000gn/T/ipykernel_13047/2331141628.py:25: FutureWarning: The frame.append method is deprecated and will be removed from pandas in a future version. Use pandas.concat instead.\n",
      "  database = database.append(temp_df)\n",
      "/var/folders/z4/z_24d35100g77zf619tkcmfr0000gn/T/ipykernel_13047/2331141628.py:25: FutureWarning: The frame.append method is deprecated and will be removed from pandas in a future version. Use pandas.concat instead.\n",
      "  database = database.append(temp_df)\n",
      "/var/folders/z4/z_24d35100g77zf619tkcmfr0000gn/T/ipykernel_13047/2331141628.py:25: FutureWarning: The frame.append method is deprecated and will be removed from pandas in a future version. Use pandas.concat instead.\n",
      "  database = database.append(temp_df)\n",
      "/var/folders/z4/z_24d35100g77zf619tkcmfr0000gn/T/ipykernel_13047/2331141628.py:25: FutureWarning: The frame.append method is deprecated and will be removed from pandas in a future version. Use pandas.concat instead.\n",
      "  database = database.append(temp_df)\n",
      "/var/folders/z4/z_24d35100g77zf619tkcmfr0000gn/T/ipykernel_13047/2331141628.py:25: FutureWarning: The frame.append method is deprecated and will be removed from pandas in a future version. Use pandas.concat instead.\n",
      "  database = database.append(temp_df)\n",
      "/var/folders/z4/z_24d35100g77zf619tkcmfr0000gn/T/ipykernel_13047/2331141628.py:25: FutureWarning: The frame.append method is deprecated and will be removed from pandas in a future version. Use pandas.concat instead.\n",
      "  database = database.append(temp_df)\n"
     ]
    }
   ],
   "source": [
    "database = pd.DataFrame(columns=[\"event_id\", \"species\", \"total_stocked\"])\n",
    "\n",
    "for item in response.json():\n",
    "    event_id = item[\"id\"]\n",
    "    content = item[\"content\"][\"rendered\"]\n",
    "    soup = BeautifulSoup(content, \"html.parser\")\n",
    "    \n",
    "    for tag in soup:\n",
    "        if tag.string != None:\n",
    "            if \"Stocked\" in tag.string:\n",
    "                data = {\"event_id\":[], \"species\":[], \"total_stocked\":[]}\n",
    "                \n",
    "                data[\"event_id\"] = event_id\n",
    "                \n",
    "                total_stocked = tag.string.split(\" \")[1]\n",
    "                data[\"total_stocked\"].append(total_stocked)\n",
    "               \n",
    "                try:\n",
    "                    species = tag.string.split(\" \")[2]\n",
    "                except:\n",
    "                    species = \"NA\"\n",
    "                data[\"species\"].append(species)\n",
    "                \n",
    "                temp_df = pd.DataFrame.from_dict(data)\n",
    "                database = database.append(temp_df)\n",
    "            elif \"Length\" in tag.string:\n",
    "                data = {\"event_id\":[], \"length\":[]}\n",
    "                \n",
    "                data[\"event_id\"] = event_id\n",
    "                \n",
    "                length = tag.string.split(\" \")[1]\n",
    "                data[\"length\"].append(length)\n",
    "                temp_df = pd.DataFrame.from_dict(data)\n",
    "                print(temp_df)"
   ]
  },
  {
   "cell_type": "code",
   "execution_count": 97,
   "id": "4deb6765",
   "metadata": {
    "scrolled": true
   },
   "outputs": [
    {
     "data": {
      "text/html": [
       "<div>\n",
       "<style scoped>\n",
       "    .dataframe tbody tr th:only-of-type {\n",
       "        vertical-align: middle;\n",
       "    }\n",
       "\n",
       "    .dataframe tbody tr th {\n",
       "        vertical-align: top;\n",
       "    }\n",
       "\n",
       "    .dataframe thead th {\n",
       "        text-align: right;\n",
       "    }\n",
       "</style>\n",
       "<table border=\"1\" class=\"dataframe\">\n",
       "  <thead>\n",
       "    <tr style=\"text-align: right;\">\n",
       "      <th></th>\n",
       "      <th>event_id</th>\n",
       "      <th>species</th>\n",
       "      <th>total_stocked</th>\n",
       "    </tr>\n",
       "  </thead>\n",
       "  <tbody>\n",
       "    <tr>\n",
       "      <th>0</th>\n",
       "      <td>11450</td>\n",
       "      <td>Tiger</td>\n",
       "      <td>1750</td>\n",
       "    </tr>\n",
       "    <tr>\n",
       "      <th>0</th>\n",
       "      <td>11449</td>\n",
       "      <td>Brown</td>\n",
       "      <td>805</td>\n",
       "    </tr>\n",
       "    <tr>\n",
       "      <th>0</th>\n",
       "      <td>11449</td>\n",
       "      <td>Brown</td>\n",
       "      <td>702</td>\n",
       "    </tr>\n",
       "    <tr>\n",
       "      <th>0</th>\n",
       "      <td>11449</td>\n",
       "      <td>Rainbow</td>\n",
       "      <td>507</td>\n",
       "    </tr>\n",
       "    <tr>\n",
       "      <th>0</th>\n",
       "      <td>11448</td>\n",
       "      <td>Rainbow</td>\n",
       "      <td>360</td>\n",
       "    </tr>\n",
       "    <tr>\n",
       "      <th>0</th>\n",
       "      <td>11448</td>\n",
       "      <td>Rainbow</td>\n",
       "      <td>680</td>\n",
       "    </tr>\n",
       "    <tr>\n",
       "      <th>0</th>\n",
       "      <td>11409</td>\n",
       "      <td>Rainbow</td>\n",
       "      <td>750</td>\n",
       "    </tr>\n",
       "    <tr>\n",
       "      <th>0</th>\n",
       "      <td>11447</td>\n",
       "      <td>Brown</td>\n",
       "      <td>507</td>\n",
       "    </tr>\n",
       "    <tr>\n",
       "      <th>0</th>\n",
       "      <td>11447</td>\n",
       "      <td>Rainbow</td>\n",
       "      <td>1257</td>\n",
       "    </tr>\n",
       "    <tr>\n",
       "      <th>0</th>\n",
       "      <td>11407</td>\n",
       "      <td>Brown</td>\n",
       "      <td>504</td>\n",
       "    </tr>\n",
       "    <tr>\n",
       "      <th>0</th>\n",
       "      <td>11405</td>\n",
       "      <td>Brown</td>\n",
       "      <td>317</td>\n",
       "    </tr>\n",
       "    <tr>\n",
       "      <th>0</th>\n",
       "      <td>11404</td>\n",
       "      <td>Tiger</td>\n",
       "      <td>252</td>\n",
       "    </tr>\n",
       "    <tr>\n",
       "      <th>0</th>\n",
       "      <td>11402</td>\n",
       "      <td>Tiger</td>\n",
       "      <td>252</td>\n",
       "    </tr>\n",
       "    <tr>\n",
       "      <th>0</th>\n",
       "      <td>11398</td>\n",
       "      <td>Brown</td>\n",
       "      <td>317</td>\n",
       "    </tr>\n",
       "  </tbody>\n",
       "</table>\n",
       "</div>"
      ],
      "text/plain": [
       "  event_id  species total_stocked\n",
       "0    11450    Tiger          1750\n",
       "0    11449    Brown           805\n",
       "0    11449    Brown           702\n",
       "0    11449  Rainbow           507\n",
       "0    11448  Rainbow           360\n",
       "0    11448  Rainbow           680\n",
       "0    11409  Rainbow           750\n",
       "0    11447    Brown           507\n",
       "0    11447  Rainbow          1257\n",
       "0    11407    Brown           504\n",
       "0    11405    Brown           317\n",
       "0    11404    Tiger           252\n",
       "0    11402    Tiger           252\n",
       "0    11398    Brown           317"
      ]
     },
     "execution_count": 97,
     "metadata": {},
     "output_type": "execute_result"
    }
   ],
   "source": [
    "database"
   ]
  },
  {
   "cell_type": "code",
   "execution_count": 67,
   "id": "b7f794f9",
   "metadata": {},
   "outputs": [
    {
     "name": "stdout",
     "output_type": "stream",
     "text": [
      "200\n",
      "200\n",
      "404\n"
     ]
    }
   ],
   "source": [
    "for n in range(1, 20):\n",
    "    url = \"https://www.ndow.org/wp-json/wp/v2/event/?topic_category=322&per_page=100&page={}\".format(n)\n",
    "    response = requests.get(url)\n",
    "    \n",
    "    if response.status_code == 200:\n",
    "        print(response.status_code)       \n",
    "    else:\n",
    "        print(\"404\")\n",
    "        break"
   ]
  }
 ],
 "metadata": {
  "kernelspec": {
   "display_name": "Python 3 (ipykernel)",
   "language": "python",
   "name": "python3"
  },
  "language_info": {
   "codemirror_mode": {
    "name": "ipython",
    "version": 3
   },
   "file_extension": ".py",
   "mimetype": "text/x-python",
   "name": "python",
   "nbconvert_exporter": "python",
   "pygments_lexer": "ipython3",
   "version": "3.9.12"
  }
 },
 "nbformat": 4,
 "nbformat_minor": 5
}
